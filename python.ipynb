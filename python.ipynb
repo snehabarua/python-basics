{
  "nbformat": 4,
  "nbformat_minor": 0,
  "metadata": {
    "colab": {
      "provenance": [],
      "authorship_tag": "ABX9TyMzjwlJq9IUAg/DaEYQPw9I",
      "include_colab_link": true
    },
    "kernelspec": {
      "name": "python3",
      "display_name": "Python 3"
    },
    "language_info": {
      "name": "python"
    }
  },
  "cells": [
    {
      "cell_type": "markdown",
      "metadata": {
        "id": "view-in-github",
        "colab_type": "text"
      },
      "source": [
        "<a href=\"https://colab.research.google.com/github/snehabarua/python-basics/blob/master/python.ipynb\" target=\"_parent\"><img src=\"https://colab.research.google.com/assets/colab-badge.svg\" alt=\"Open In Colab\"/></a>"
      ]
    },
    {
      "cell_type": "markdown",
      "source": [
        "everything in python is an object. even salary =1000 and even print func\n",
        "fucntions are manipulators of object. functins start with def means define"
      ],
      "metadata": {
        "id": "PSDGubEmkf4q"
      }
    },
    {
      "cell_type": "code",
      "source": [
        "type(100)"
      ],
      "metadata": {
        "colab": {
          "base_uri": "https://localhost:8080/"
        },
        "id": "xi9ZKIzdkPkU",
        "outputId": "0442db64-ec70-4cf1-8f0a-c9167ad14f86"
      },
      "execution_count": null,
      "outputs": [
        {
          "output_type": "execute_result",
          "data": {
            "text/plain": [
              "int"
            ]
          },
          "metadata": {},
          "execution_count": 1
        }
      ]
    },
    {
      "cell_type": "code",
      "execution_count": null,
      "metadata": {
        "id": "R4G9pLtzkLmo"
      },
      "outputs": [],
      "source": [
        "job_title=\"data analyst\",\n",
        "job_location=\"meerut\""
      ]
    },
    {
      "cell_type": "code",
      "source": [
        "id(job_title)"
      ],
      "metadata": {
        "colab": {
          "base_uri": "https://localhost:8080/"
        },
        "id": "LApXrwOLlTdY",
        "outputId": "e122e729-4e1b-4af0-b446-9300a41f1c9b"
      },
      "execution_count": null,
      "outputs": [
        {
          "output_type": "execute_result",
          "data": {
            "text/plain": [
              "138195401518640"
            ]
          },
          "metadata": {},
          "execution_count": 4
        }
      ]
    },
    {
      "cell_type": "code",
      "source": [
        "def greet():\n",
        "  return \"yo nerd\"\n"
      ],
      "metadata": {
        "id": "y6EuAXM-laTZ"
      },
      "execution_count": null,
      "outputs": []
    },
    {
      "cell_type": "code",
      "source": [
        "greet()"
      ],
      "metadata": {
        "colab": {
          "base_uri": "https://localhost:8080/",
          "height": 36
        },
        "id": "f_WU7rYmpnGT",
        "outputId": "ef489c78-522a-4b53-e526-d19b81887d26"
      },
      "execution_count": null,
      "outputs": [
        {
          "output_type": "execute_result",
          "data": {
            "text/plain": [
              "'yo nerd'"
            ],
            "application/vnd.google.colaboratory.intrinsic+json": {
              "type": "string"
            }
          },
          "metadata": {},
          "execution_count": 8
        }
      ]
    },
    {
      "cell_type": "code",
      "source": [
        "class Job_Post:\n",
        "  def __init__(self,title,location):\n",
        "    self.title=title\n",
        "    self.location=location\n"
      ],
      "metadata": {
        "id": "jEe2yRUaprC1"
      },
      "execution_count": null,
      "outputs": []
    },
    {
      "cell_type": "code",
      "source": [
        "job_details=Job_Post(job_title,job_location)"
      ],
      "metadata": {
        "id": "CViWSclyIJyL"
      },
      "execution_count": null,
      "outputs": []
    },
    {
      "cell_type": "code",
      "source": [
        "job_details.title"
      ],
      "metadata": {
        "colab": {
          "base_uri": "https://localhost:8080/"
        },
        "id": "LbtGlG6HIJkO",
        "outputId": "16d58b9b-2f51-485d-b8eb-c9a543a8e205"
      },
      "execution_count": null,
      "outputs": [
        {
          "output_type": "execute_result",
          "data": {
            "text/plain": [
              "('data analyst',)"
            ]
          },
          "metadata": {},
          "execution_count": 15
        }
      ]
    },
    {
      "cell_type": "code",
      "source": [
        "my_salary= 900000"
      ],
      "metadata": {
        "id": "Kf0qu5yJIJWq"
      },
      "execution_count": null,
      "outputs": []
    },
    {
      "cell_type": "code",
      "source": [
        "my_salary.__add__(1)"
      ],
      "metadata": {
        "colab": {
          "base_uri": "https://localhost:8080/"
        },
        "id": "_JzciCWjQiwV",
        "outputId": "f0bc5c73-e348-4460-d869-4679b38c7537"
      },
      "execution_count": null,
      "outputs": [
        {
          "output_type": "execute_result",
          "data": {
            "text/plain": [
              "900001"
            ]
          },
          "metadata": {},
          "execution_count": 17
        }
      ]
    },
    {
      "cell_type": "markdown",
      "metadata": {
        "id": "Rl3_v-B0iUre"
      },
      "source": [
        "#### Built-in Types\n",
        "\n",
        "Python has the following data types built-in by default:\n",
        "| Type               | Data Type           | Example               |\n",
        "|--------------------|---------------------|-----------------------|\n",
        "| Text               | `str`               | `\"Data Nerd!\"`     |\n",
        "| Numeric            | `int`               | `42`                  |\n",
        "|                    | `float`             | `3.14159`             |\n",
        "|                    | `complex`           | `1 + 2j`              |\n",
        "| Sequence           | `list`              | `[1, 2, 3]`           |\n",
        "|                    | `tuple`             | `(1, 2, 3)`           |\n",
        "|                    | `range`             | `range(10)`           |\n",
        "| Mapping            | `dict`              | `{\"key\": \"value\"}`    |\n",
        "| Set                | `set`               | `{1, 2, 3}`           |\n",
        "|                    | `frozenset`         | `frozenset([1, 2, 3])`|\n",
        "| Boolean            | `bool`              | `True` or `False`     |\n",
        "| Binary             | `bytes`             | `b\"Data\"`            |\n",
        "|                    | `bytearray`         | `bytearray(5)`        |\n",
        "|                    | `memoryview`        | `memoryview(b\"Data\")`|\n",
        "| None               | `NoneType`          | `None`                |\n",
        "\n",
        "For more information on the different data types in Python check out the Python documentation for data types [here](https://docs.python.org/3/library/datatypes.html).\n",
        "\n",
        "#### Types Common in Data Analytics\n",
        "\n",
        "We'll mainly focus on the most common ones in data analytics:\n",
        "* Text Type: `str`\n",
        "* Numeric Types: `int`, `float`\n",
        "* Sequence Types:\t`list`, `tuples`\n",
        "* Mapping Type:\t`dict`\n",
        "* Set Types:\t`set`\n",
        "\n",
        "### Importance\n",
        "\n",
        "Fundamental for data processing. Pandas and matplotlib automatically handle different data types for operations like mathematical calculations, data manipulation, and plotting.\n",
        "\n"
      ]
    },
    {
      "cell_type": "code",
      "source": [
        "\"data \"+ \"nerd\""
      ],
      "metadata": {
        "id": "rcn_Tle8dxQ4",
        "outputId": "82a69ee7-d811-4291-af91-f825a0c7d96d",
        "colab": {
          "base_uri": "https://localhost:8080/",
          "height": 36
        }
      },
      "execution_count": 3,
      "outputs": [
        {
          "output_type": "execute_result",
          "data": {
            "text/plain": [
              "'data nerd'"
            ],
            "application/vnd.google.colaboratory.intrinsic+json": {
              "type": "string"
            }
          },
          "metadata": {},
          "execution_count": 3
        }
      ]
    },
    {
      "cell_type": "code",
      "source": [
        "job_id=102"
      ],
      "metadata": {
        "id": "qvELyY6ddxHv"
      },
      "execution_count": 4,
      "outputs": []
    },
    {
      "cell_type": "code",
      "source": [
        "job_id=float(102)\n",
        "type(job_id)"
      ],
      "metadata": {
        "id": "UsXPm2Pldw7o",
        "outputId": "9e447211-1f45-469c-e6e5-580a6fea0c10",
        "colab": {
          "base_uri": "https://localhost:8080/"
        }
      },
      "execution_count": 5,
      "outputs": [
        {
          "output_type": "execute_result",
          "data": {
            "text/plain": [
              "float"
            ]
          },
          "metadata": {},
          "execution_count": 5
        }
      ]
    },
    {
      "cell_type": "markdown",
      "source": [
        "class - template for creating objects(records). def inside class is a method. jobdetails is instance of jobpost class created .\n",
        "attributes are field in a record defined by its class. eg -self.title=title,\n",
        "    self.location=location"
      ],
      "metadata": {
        "id": "1B8br9FoCxQX"
      }
    }
  ]
}